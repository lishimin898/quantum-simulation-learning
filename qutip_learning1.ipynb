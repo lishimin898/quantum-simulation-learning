{
 "metadata": {
  "language_info": {
   "codemirror_mode": {
    "name": "ipython",
    "version": 3
   },
   "file_extension": ".py",
   "mimetype": "text/x-python",
   "name": "python",
   "nbconvert_exporter": "python",
   "pygments_lexer": "ipython3",
   "version": "3.8.3-final"
  },
  "orig_nbformat": 2,
  "kernelspec": {
   "name": "python3",
   "display_name": "Python 3.8.3 64-bit (conda)",
   "metadata": {
    "interpreter": {
     "hash": "b3ba2566441a7c06988d0923437866b63cedc61552a5af99d1f4fb67d367b25f"
    }
   }
  }
 },
 "nbformat": 4,
 "nbformat_minor": 2,
 "cells": [
  {
   "cell_type": "code",
   "execution_count": null,
   "metadata": {},
   "outputs": [],
   "source": [
    "from qutip import *\n",
    "import numpy as np\n",
    "from matplotlib import pyplot as plt"
   ]
  },
  {
   "source": [
    "## 粒子数态和相干态的构造"
   ],
   "cell_type": "markdown",
   "metadata": {}
  },
  {
   "cell_type": "code",
   "execution_count": null,
   "metadata": {},
   "outputs": [],
   "source": [
    "N=5\n",
    "n=1\n",
    "Fock_n = basis(N,n)\n",
    "Fock_n1=fock(N,n)\n",
    "alpha=3\n",
    "Coherent_a = coherent(N,alpha)\n",
    "rho_n=fock_dm(N,n)\n",
    "rho_a=coherent_dm(N,alpha)"
   ]
  },
  {
   "source": [
    "## 纠缠态"
   ],
   "cell_type": "markdown",
   "metadata": {}
  },
  {
   "cell_type": "code",
   "execution_count": null,
   "metadata": {},
   "outputs": [],
   "source": [
    "state_entangle=(tensor(fock(N,0),fock(N,1))+tensor(fock(N,1),fock(N,0))).unit()\n",
    "state_entangle"
   ]
  },
  {
   "source": [
    "## 泡利算符"
   ],
   "cell_type": "markdown",
   "metadata": {}
  },
  {
   "cell_type": "code",
   "execution_count": null,
   "metadata": {},
   "outputs": [],
   "source": [
    "sigmax(),sigmay(),sigmaz()"
   ]
  },
  {
   "source": [
    "## 产生湮灭算符"
   ],
   "cell_type": "markdown",
   "metadata": {}
  },
  {
   "cell_type": "code",
   "execution_count": null,
   "metadata": {},
   "outputs": [],
   "source": [
    "a=destroy(N)\n",
    "a_dag=create(N)\n",
    "a_dag1=a.dag()\n",
    "a,a_dag,a_dag1"
   ]
  },
  {
   "cell_type": "code",
   "execution_count": null,
   "metadata": {},
   "outputs": [],
   "source": [
    "fock_1=np.dot(a_dag,fock(N,0))\n",
    "fock_1=Qobj(fock_1)\n",
    "fock_1,fock(N,0),fock(N,1)"
   ]
  },
  {
   "source": [
    "## 组合系统"
   ],
   "cell_type": "markdown",
   "metadata": {}
  },
  {
   "cell_type": "code",
   "execution_count": null,
   "metadata": {},
   "outputs": [],
   "source": [
    "g=0.1\n",
    "sz1=tensor(sigmaz(),qeye(2))\n",
    "sz2=tensor(qeye(2),sigmaz())\n",
    "H=sz1+sz2+g*tensor(sigmax(),sigmax())\n",
    "H"
   ]
  },
  {
   "cell_type": "code",
   "execution_count": null,
   "metadata": {},
   "outputs": [],
   "source": [
    "sz1=np.array(sz1)\n",
    "sz1"
   ]
  },
  {
   "cell_type": "code",
   "execution_count": null,
   "metadata": {},
   "outputs": [],
   "source": [
    "sz2=np.array(sz2)\n",
    "epsilon=np.array([1.0,1.0])\n",
    "sz=np.array([sz1,sz2]).transpose(1,2,0)\n",
    "H1=sz*epsilon\n",
    "H1=H1.transpose(2,0,1)\n",
    "h1=0\n",
    "for i in H1:\n",
    "    h1 += Qobj(i)\n",
    "h1"
   ]
  },
  {
   "source": [
    "## JC 模型(use RWA)\n",
    "Hamiltonian: $H=\\omega_{c}a^{\\dagger}a-\\frac{1}{2}\\omega_{a}\\sigma{z}+g(a\\sigma_{+}+a^{\\dagger}\\sigma{-})$"
   ],
   "cell_type": "markdown",
   "metadata": {}
  },
  {
   "cell_type": "code",
   "execution_count": null,
   "metadata": {},
   "outputs": [],
   "source": [
    "wc=1.0\n",
    "wa=1.0\n",
    "g=0.1\n",
    "N=5\n",
    "\n",
    "a=tensor(destroy(N),qeye(2))\n",
    "sigma_z=tensor(qeye(N),sigmaz())\n",
    "sigma_minus=tensor(qeye(N),destroy(2))\n",
    "\n",
    "H=wc*a*a.dag()-1/2*wa*sigma_z+g*(a*sigma_minus.dag()+a.dag()*sigma_minus)"
   ]
  },
  {
   "source": [
    "## Unitary dynamics\n",
    "封闭系统服从Liouville方程，开放系统服从Lindblad方程，此处以JC模型为例\n",
    "### Non-unitary Evolution\n",
    "$$\n",
    "\\frac{d}{dt}\\rho(t)=-\\frac{i}{h}[H(t),\\rho(t)]+\\sum_{n}\\frac{1}{2}[2C_{n}\\rho(t)C_{n}^{\\dagger}-\\rho(t)C_{n}^{\\dagger}C_{n}-C_{n}^{\\dagger}C_{n}\\rho(t)]"
   ],
   "cell_type": "markdown",
   "metadata": {}
  },
  {
   "cell_type": "code",
   "execution_count": null,
   "metadata": {},
   "outputs": [],
   "source": [
    "# initial state\n",
    "psi0=tensor(basis(N,0),basis(2,1))\n",
    "# time\n",
    "tlist=np.linspace(0,100,101)\n",
    "# collapse opertaors to describe the dissipation\n",
    "c_ops=[]\n",
    "\n",
    "# evolve the system\n",
    "Na=a.dag()*a\n",
    "Ns=sigma_minus.dag()*sigma_minus\n",
    "output=mesolve(H,psi0,tlist,c_ops=c_ops,e_ops=[Na,Ns])\n",
    "output"
   ]
  },
  {
   "cell_type": "code",
   "execution_count": null,
   "metadata": {},
   "outputs": [],
   "source": [
    "na=output.expect[0]\n",
    "ns=output.expect[1]\n",
    "plt.figure(figsize=(16,9))\n",
    "plt.plot(tlist,na,label='Cavity')\n",
    "plt.plot(tlist,ns,label='Atom excited state')\n",
    "plt.legend(loc='best')\n",
    "plt.xlabel('Time')\n",
    "plt.ylabel('Occupation probablity')\n",
    "plt.title('Vacuum Rabi oscillations')"
   ]
  },
  {
   "cell_type": "code",
   "execution_count": null,
   "metadata": {},
   "outputs": [],
   "source": [
    "output_1=mesolve(H,psi0,tlist,c_ops,[])"
   ]
  },
  {
   "cell_type": "code",
   "execution_count": null,
   "metadata": {},
   "outputs": [],
   "source": [
    "type(output_1.states),len(output_1.states)"
   ]
  },
  {
   "cell_type": "code",
   "execution_count": null,
   "metadata": {},
   "outputs": [],
   "source": [
    "output_1.states[-1]"
   ]
  },
  {
   "source": [
    "## Cat state"
   ],
   "cell_type": "markdown",
   "metadata": {}
  },
  {
   "cell_type": "code",
   "execution_count": null,
   "metadata": {},
   "outputs": [],
   "source": [
    "N=50\n",
    "vac=basis(N,0)\n",
    "rho_vac=vac*vac.dag()\n",
    "rho_coh1=coherent_dm(N,1+3j)\n",
    "rho_coh2=coherent_dm(N,-1-3j)\n",
    "rho_cat=(rho_coh1+rho_coh2).unit()\n",
    "s=squeeze(N,0.25)\n",
    "d=displace(N,1+3j)\n",
    "psi=s*d*vac\n",
    "rho=psi*psi.dag()\n",
    "plot_wigner(rho_vac,figsize=(12,9),colorbar=True,cmap='RdBu')\n",
    "plot_wigner(rho_coh1,figsize=(12,9),colorbar=True,cmap='RdBu')\n",
    "plot_wigner(rho_coh2,figsize=(12,9),colorbar=True,cmap='RdBu')\n",
    "plot_wigner(rho_cat,figsize=(12,9),colorbar=True,cmap='RdBu')\n",
    "plot_wigner(rho,figsize=(12,9),colorbar=True,cmap='RdBu')\n",
    "plot_fock_distribution(rho_coh1)\n",
    "plot_fock_distribution(rho)"
   ]
  },
  {
   "cell_type": "code",
   "execution_count": null,
   "metadata": {},
   "outputs": [],
   "source": [
    "kappa=1\n",
    "alpha=3+4j\n",
    "ini_state=coherent(100,alpha)\n",
    "a=destroy(100)\n",
    "H_kerr=1/2*kappa*a.dag()*a.dag()*a*a\n",
    "times=np.linspace(0,2,1000)\n",
    "res=mesolve(H_kerr,ini_state,times,[],[])\n",
    "plot_wigner(res.states[0],figsize=(12,9),colorbar=True,cmap='RdBu')\n",
    "for i in range(1,11):\n",
    "    plot_wigner(res.states[100*i-1],figsize=(12,9),colorbar=True,cmap='RdBu')"
   ]
  },
  {
   "cell_type": "code",
   "execution_count": null,
   "metadata": {},
   "outputs": [],
   "source": []
  }
 ]
}